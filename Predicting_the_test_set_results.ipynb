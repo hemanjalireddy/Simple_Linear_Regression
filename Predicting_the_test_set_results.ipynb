{
  "nbformat": 4,
  "nbformat_minor": 0,
  "metadata": {
    "colab": {
      "name": "Predicting_the_test_set_results.ipynb",
      "provenance": [],
      "authorship_tag": "ABX9TyPDLlpM5stdTlPaLcxJ5OoP"
    },
    "kernelspec": {
      "name": "python3",
      "display_name": "Python 3"
    },
    "language_info": {
      "name": "python"
    }
  },
  "cells": [
    {
      "cell_type": "markdown",
      "source": [
        "# Simple Linear Regression"
      ],
      "metadata": {
        "id": "bQYLnsN4iUjG"
      }
    },
    {
      "cell_type": "markdown",
      "source": [
        "## Import the Libraries"
      ],
      "metadata": {
        "id": "hE8uTZNriHI5"
      }
    },
    {
      "cell_type": "code",
      "execution_count": 1,
      "metadata": {
        "id": "IzaUni1kgHfW"
      },
      "outputs": [],
      "source": [
        "import numpy as np\n",
        "import pandas as pd\n",
        "import matplotlib.pyplot as plt"
      ]
    },
    {
      "cell_type": "markdown",
      "source": [
        "## Load the Data"
      ],
      "metadata": {
        "id": "8DOms3roijvQ"
      }
    },
    {
      "cell_type": "code",
      "source": [
        "data = pd.read_csv('/content/Salary_Data.csv')\n",
        "x = data.iloc[: , :-1].values\n",
        "y = data.iloc[: , -1].values"
      ],
      "metadata": {
        "id": "TiRnc8cOijdB"
      },
      "execution_count": 11,
      "outputs": []
    },
    {
      "cell_type": "code",
      "source": [
        "x"
      ],
      "metadata": {
        "colab": {
          "base_uri": "https://localhost:8080/"
        },
        "id": "etOOtvnLizyQ",
        "outputId": "57524126-0361-41cd-c7be-4e1decf3379f"
      },
      "execution_count": 12,
      "outputs": [
        {
          "output_type": "execute_result",
          "data": {
            "text/plain": [
              "array([[ 1.1],\n",
              "       [ 1.3],\n",
              "       [ 1.5],\n",
              "       [ 2. ],\n",
              "       [ 2.2],\n",
              "       [ 2.9],\n",
              "       [ 3. ],\n",
              "       [ 3.2],\n",
              "       [ 3.2],\n",
              "       [ 3.7],\n",
              "       [ 3.9],\n",
              "       [ 4. ],\n",
              "       [ 4. ],\n",
              "       [ 4.1],\n",
              "       [ 4.5],\n",
              "       [ 4.9],\n",
              "       [ 5.1],\n",
              "       [ 5.3],\n",
              "       [ 5.9],\n",
              "       [ 6. ],\n",
              "       [ 6.8],\n",
              "       [ 7.1],\n",
              "       [ 7.9],\n",
              "       [ 8.2],\n",
              "       [ 8.7],\n",
              "       [ 9. ],\n",
              "       [ 9.5],\n",
              "       [ 9.6],\n",
              "       [10.3],\n",
              "       [10.5]])"
            ]
          },
          "metadata": {},
          "execution_count": 12
        }
      ]
    },
    {
      "cell_type": "code",
      "source": [
        "y"
      ],
      "metadata": {
        "colab": {
          "base_uri": "https://localhost:8080/"
        },
        "id": "Gag6gtPbi18Q",
        "outputId": "a5b98044-2e11-4ce1-8340-332b4905e0e8"
      },
      "execution_count": 13,
      "outputs": [
        {
          "output_type": "execute_result",
          "data": {
            "text/plain": [
              "array([ 39343.,  46205.,  37731.,  43525.,  39891.,  56642.,  60150.,\n",
              "        54445.,  64445.,  57189.,  63218.,  55794.,  56957.,  57081.,\n",
              "        61111.,  67938.,  66029.,  83088.,  81363.,  93940.,  91738.,\n",
              "        98273., 101302., 113812., 109431., 105582., 116969., 112635.,\n",
              "       122391., 121872.])"
            ]
          },
          "metadata": {},
          "execution_count": 13
        }
      ]
    },
    {
      "cell_type": "markdown",
      "source": [
        "## Splitting data into Train and Test set"
      ],
      "metadata": {
        "id": "36FNlPmei7JK"
      }
    },
    {
      "cell_type": "code",
      "source": [
        "from sklearn.model_selection import train_test_split\n",
        "x_train , x_test , y_train , y_test = train_test_split(x , y , test_size =0.2 , random_state=1)"
      ],
      "metadata": {
        "id": "NnPAUmfVi-Vb"
      },
      "execution_count": 14,
      "outputs": []
    },
    {
      "cell_type": "code",
      "source": [
        "x_train"
      ],
      "metadata": {
        "colab": {
          "base_uri": "https://localhost:8080/"
        },
        "id": "0AYFV0TljR66",
        "outputId": "894db68a-79c3-4aab-b491-f76167fdda74"
      },
      "execution_count": 15,
      "outputs": [
        {
          "output_type": "execute_result",
          "data": {
            "text/plain": [
              "array([[ 9.5],\n",
              "       [ 2. ],\n",
              "       [ 8.7],\n",
              "       [ 7.9],\n",
              "       [ 8.2],\n",
              "       [ 2.2],\n",
              "       [ 1.5],\n",
              "       [ 9. ],\n",
              "       [ 3. ],\n",
              "       [ 5.9],\n",
              "       [ 4.1],\n",
              "       [ 3.2],\n",
              "       [ 9.6],\n",
              "       [ 1.3],\n",
              "       [ 5.1],\n",
              "       [ 1.1],\n",
              "       [ 4.9],\n",
              "       [10.5],\n",
              "       [10.3],\n",
              "       [ 3.7],\n",
              "       [ 3.2],\n",
              "       [ 4. ],\n",
              "       [ 4. ],\n",
              "       [ 2.9]])"
            ]
          },
          "metadata": {},
          "execution_count": 15
        }
      ]
    },
    {
      "cell_type": "code",
      "source": [
        "x_test"
      ],
      "metadata": {
        "colab": {
          "base_uri": "https://localhost:8080/"
        },
        "id": "u8w8hYhKjSlh",
        "outputId": "71bcf37e-b79b-454f-a008-cd16a85ded58"
      },
      "execution_count": 16,
      "outputs": [
        {
          "output_type": "execute_result",
          "data": {
            "text/plain": [
              "array([[5.3],\n",
              "       [7.1],\n",
              "       [3.9],\n",
              "       [6. ],\n",
              "       [4.5],\n",
              "       [6.8]])"
            ]
          },
          "metadata": {},
          "execution_count": 16
        }
      ]
    },
    {
      "cell_type": "code",
      "source": [
        "y_train"
      ],
      "metadata": {
        "colab": {
          "base_uri": "https://localhost:8080/"
        },
        "id": "8dsNXUr7jTYa",
        "outputId": "45587ade-96c2-4c22-d5c7-dcaeaa3da549"
      },
      "execution_count": 17,
      "outputs": [
        {
          "output_type": "execute_result",
          "data": {
            "text/plain": [
              "array([116969.,  43525., 109431., 101302., 113812.,  39891.,  37731.,\n",
              "       105582.,  60150.,  81363.,  57081.,  54445., 112635.,  46205.,\n",
              "        66029.,  39343.,  67938., 121872., 122391.,  57189.,  64445.,\n",
              "        56957.,  55794.,  56642.])"
            ]
          },
          "metadata": {},
          "execution_count": 17
        }
      ]
    },
    {
      "cell_type": "code",
      "source": [
        "y_test"
      ],
      "metadata": {
        "colab": {
          "base_uri": "https://localhost:8080/"
        },
        "id": "ArKdC4NqjUfo",
        "outputId": "d17da278-d91f-494e-976a-31f667a9b69a"
      },
      "execution_count": 18,
      "outputs": [
        {
          "output_type": "execute_result",
          "data": {
            "text/plain": [
              "array([83088., 98273., 63218., 93940., 61111., 91738.])"
            ]
          },
          "metadata": {},
          "execution_count": 18
        }
      ]
    },
    {
      "cell_type": "markdown",
      "source": [
        "## Training the Simple Linear Regression model on the training set"
      ],
      "metadata": {
        "id": "NrM5UttejlNR"
      }
    },
    {
      "cell_type": "code",
      "source": [
        "from sklearn.linear_model import LinearRegression\n",
        "regressor = LinearRegression()\n",
        "regressor.fit(x_train , y_train)"
      ],
      "metadata": {
        "colab": {
          "base_uri": "https://localhost:8080/"
        },
        "id": "4ORbyhLWjsSm",
        "outputId": "3330c069-64ef-4e53-9dfa-4b73ba657d86"
      },
      "execution_count": 19,
      "outputs": [
        {
          "output_type": "execute_result",
          "data": {
            "text/plain": [
              "LinearRegression()"
            ]
          },
          "metadata": {},
          "execution_count": 19
        }
      ]
    },
    {
      "cell_type": "markdown",
      "source": [
        "## Predicting the Test Set results"
      ],
      "metadata": {
        "id": "3ZxcQ-N2kzw4"
      }
    },
    {
      "cell_type": "code",
      "source": [
        "y_pred = regressor.predict(x_test)"
      ],
      "metadata": {
        "id": "1AdwQ5mrk6L2"
      },
      "execution_count": 20,
      "outputs": []
    },
    {
      "cell_type": "code",
      "source": [
        "y_pred"
      ],
      "metadata": {
        "colab": {
          "base_uri": "https://localhost:8080/"
        },
        "id": "B_rfY1qOlXmR",
        "outputId": "95208850-3dc7-48bf-a4c8-4959d9fbc09b"
      },
      "execution_count": 21,
      "outputs": [
        {
          "output_type": "execute_result",
          "data": {
            "text/plain": [
              "array([75074.50510972, 91873.8056381 , 62008.38247653, 81607.56642631,\n",
              "       67608.14931932, 89073.92221671])"
            ]
          },
          "metadata": {},
          "execution_count": 21
        }
      ]
    }
  ]
}